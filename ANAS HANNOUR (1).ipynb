{
 "cells": [
  {
   "cell_type": "markdown",
   "id": "52333603",
   "metadata": {
    "toc": true
   },
   "source": [
    "<h1>Table of Contents<span class=\"tocSkip\"></span></h1>\n",
    "<div class=\"toc\"><ul class=\"toc-item\"><li><span><a href=\"#Chargement-de-données\" data-toc-modified-id=\"Chargement-de-données-1\"><span class=\"toc-item-num\">1&nbsp;&nbsp;</span>Chargement de données</a></span><ul class=\"toc-item\"><li><span><a href=\"#Création-d'un-DataFrame-Manuellement\" data-toc-modified-id=\"Création-d'un-DataFrame-Manuellement-1.1\"><span class=\"toc-item-num\">1.1&nbsp;&nbsp;</span>Création d'un DataFrame Manuellement</a></span></li><li><span><a href=\"#Chargement-d'un-DataFrame-depuis-le-container-Docker\" data-toc-modified-id=\"Chargement-d'un-DataFrame-depuis-le-container-Docker-1.2\"><span class=\"toc-item-num\">1.2&nbsp;&nbsp;</span>Chargement d'un DataFrame depuis le container Docker</a></span></li></ul></li><li><span><a href=\"#Vérification-de-l'utilisation-de-mémoire-(In-Memory)\" data-toc-modified-id=\"Vérification-de-l'utilisation-de-mémoire-(In-Memory)-2\"><span class=\"toc-item-num\">2&nbsp;&nbsp;</span>Vérification de l'utilisation de mémoire (In-Memory)</a></span></li><li><span><a href=\"#Data-Pre-processing\" data-toc-modified-id=\"Data-Pre-processing-3\"><span class=\"toc-item-num\">3&nbsp;&nbsp;</span>Data Pre-processing</a></span></li><li><span><a href=\"#Selection-depuis-un-DataFrame\" data-toc-modified-id=\"Selection-depuis-un-DataFrame-4\"><span class=\"toc-item-num\">4&nbsp;&nbsp;</span>Selection depuis un DataFrame</a></span></li><li><span><a href=\"#Ordonner-un-DataFrame-(OrderBy)\" data-toc-modified-id=\"Ordonner-un-DataFrame-(OrderBy)-5\"><span class=\"toc-item-num\">5&nbsp;&nbsp;</span>Ordonner un DataFrame (OrderBy)</a></span></li><li><span><a href=\"#Verification-isin\" data-toc-modified-id=\"Verification-isin-6\"><span class=\"toc-item-num\">6&nbsp;&nbsp;</span>Verification isin</a></span></li><li><span><a href=\"#Decoupage-d'un-DataFrame\" data-toc-modified-id=\"Decoupage-d'un-DataFrame-7\"><span class=\"toc-item-num\">7&nbsp;&nbsp;</span>Decoupage d'un DataFrame</a></span><ul class=\"toc-item\"><li><span><a href=\"#Découpage-de-ligne-(slicing)\" data-toc-modified-id=\"Découpage-de-ligne-(slicing)-7.1\"><span class=\"toc-item-num\">7.1&nbsp;&nbsp;</span>Découpage de ligne (slicing)</a></span></li><li><span><a href=\"#Découpage-de-colonnes(slicing)\" data-toc-modified-id=\"Découpage-de-colonnes(slicing)-7.2\"><span class=\"toc-item-num\">7.2&nbsp;&nbsp;</span>Découpage de colonnes(slicing)</a></span></li></ul></li><li><span><a href=\"#Filtrer-un-DataFrame\" data-toc-modified-id=\"Filtrer-un-DataFrame-8\"><span class=\"toc-item-num\">8&nbsp;&nbsp;</span>Filtrer un DataFrame</a></span><ul class=\"toc-item\"><li><span><a href=\"#Plusieurs-filtres\" data-toc-modified-id=\"Plusieurs-filtres-8.1\"><span class=\"toc-item-num\">8.1&nbsp;&nbsp;</span>Plusieurs filtres</a></span></li></ul></li><li><span><a href=\"#Save\" data-toc-modified-id=\"Save-9\"><span class=\"toc-item-num\">9&nbsp;&nbsp;</span>Save</a></span></li></ul></div>"
   ]
  },
  {
   "cell_type": "markdown",
   "id": "70c0f7d4-56df-4e77-9a5f-2ca6cd5ccc07",
   "metadata": {},
   "source": [
    "Vérifiez le chemin qui contient le Jupyter Notebook"
   ]
  },
  {
   "cell_type": "markdown",
   "id": "3f2ea78c-dcca-4d1e-a83d-06a2f9714eb1",
   "metadata": {},
   "source": [
    "Importation des librairies nécessaires et création d'une \"spark session\"."
   ]
  },
  {
   "cell_type": "code",
   "execution_count": 2,
   "id": "8ddcddca-9508-4c75-9ce6-9d718481f9f7",
   "metadata": {},
   "outputs": [],
   "source": [
    "import pyspark"
   ]
  },
  {
   "cell_type": "code",
   "execution_count": 3,
   "id": "f5f17ec5-041b-4eca-9631-26b6da82cdc6",
   "metadata": {},
   "outputs": [
    {
     "name": "stdout",
     "output_type": "stream",
     "text": [
      "You are working with 1 core(s)\n"
     ]
    }
   ],
   "source": [
    "import numpy as np # linear algebra\n",
    "import pandas as pd # data processing, CSV file I/O (e.g. pd.read_csv)\n",
    "\n",
    "import os\n",
    "import pyspark # only run after findspark.init()\n",
    "from pyspark.sql import SparkSession\n",
    "\n",
    "\n",
    "\n",
    "spark = SparkSession.builder.appName(\"Pyspark_1\").getOrCreate()\n",
    "\n",
    "cores = spark._jsc.sc().getExecutorMemoryStatus().keySet().size()\n",
    "print(\"You are working with\", cores, \"core(s)\")\n"
   ]
  },
  {
   "cell_type": "code",
   "execution_count": 4,
   "id": "80281dba-b94f-4639-8ae2-28462eda5f97",
   "metadata": {},
   "outputs": [
    {
     "data": {
      "text/html": [
       "\n",
       "            <div>\n",
       "                <p><b>SparkSession - in-memory</b></p>\n",
       "                \n",
       "        <div>\n",
       "            <p><b>SparkContext</b></p>\n",
       "\n",
       "            <p><a href=\"http://ad215610975b:4040\">Spark UI</a></p>\n",
       "\n",
       "            <dl>\n",
       "              <dt>Version</dt>\n",
       "                <dd><code>v3.5.0</code></dd>\n",
       "              <dt>Master</dt>\n",
       "                <dd><code>local[*]</code></dd>\n",
       "              <dt>AppName</dt>\n",
       "                <dd><code>Pyspark_1</code></dd>\n",
       "            </dl>\n",
       "        </div>\n",
       "        \n",
       "            </div>\n",
       "        "
      ],
      "text/plain": [
       "<pyspark.sql.session.SparkSession at 0x7fbccc18fb50>"
      ]
     },
     "execution_count": 4,
     "metadata": {},
     "output_type": "execute_result"
    }
   ],
   "source": [
    "spark"
   ]
  },
  {
   "cell_type": "markdown",
   "id": "b1aa90c8-cade-422a-93d5-fee73d879626",
   "metadata": {},
   "source": [
    "### Chargement de données "
   ]
  },
  {
   "cell_type": "markdown",
   "id": "d5898d44-7a8a-4fc8-acd2-eb674e2a27b5",
   "metadata": {},
   "source": [
    "Il existe plusieurs type pour créer un DataFrame. Parmi les différentes manières pour en créer : manuellement, ou en chargeant des données localement. "
   ]
  },
  {
   "cell_type": "markdown",
   "id": "6fee871d-bff9-41ca-b739-48dc68aadfe5",
   "metadata": {},
   "source": [
    "#### Création d'un DataFrame Manuellement "
   ]
  },
  {
   "cell_type": "markdown",
   "id": "a058023a-b75d-4f3f-8ae3-89a7b9e4f66e",
   "metadata": {},
   "source": [
    "Avec la fonction \"createDateFrame()\" de la classe \"spark\" créez un DataFrame. \n",
    "\n",
    "Donnez \"food\" et \"hunger_index\" aux deux colonnes du DataFrame."
   ]
  },
  {
   "cell_type": "code",
   "execution_count": 8,
   "id": "51dea51c-d1a5-4c94-9ca4-d1e5ba6e4ed8",
   "metadata": {},
   "outputs": [
    {
     "name": "stdout",
     "output_type": "stream",
     "text": [
      "+-------+------------+\n",
      "|   food|hunger_index|\n",
      "+-------+------------+\n",
      "|  Pasta|         100|\n",
      "|  Pizza|         200|\n",
      "|Noodles|          50|\n",
      "| Burger|         199|\n",
      "|   Dosa|       10000|\n",
      "|  Bread|           1|\n",
      "+-------+------------+\n",
      "\n"
     ]
    }
   ],
   "source": [
    "values = [('Pasta',100),('Pizza',200),('Noodles',50),('Burger',199),('Dosa',10000),('Bread',1)]\n",
    "spark = SparkSession.builder.appName(\"CreateDataFrame\").getOrCreate()\n",
    "# Créez un DataFrame en spécifiant les noms de colonnes\n",
    "df = spark.createDataFrame(values, [\"food\", \"hunger_index\"])\n",
    "df.show()"
   ]
  },
  {
   "cell_type": "markdown",
   "id": "9302012e-a167-4cd9-9a6c-be2d7a1fe2e2",
   "metadata": {},
   "source": [
    "#### Chargement d'un DataFrame depuis le container Docker"
   ]
  },
  {
   "cell_type": "markdown",
   "id": "c669875a-86ee-450e-99d2-970a97ba3d5b",
   "metadata": {},
   "source": [
    "Chargez les données avec la méthode \"spark.read.csv\".\n",
    "\n",
    "Note : Utilisez les arguments \"sep\" et \"header\"."
   ]
  },
  {
   "cell_type": "code",
   "execution_count": 14,
   "id": "af72d6f5-c9c8-457d-9ed9-b75d49e58308",
   "metadata": {},
   "outputs": [],
   "source": [
    "file_path = \"drinkquality (1).csv\"\n",
    "\n",
    "drink_quality = spark.read.csv(file_path, sep=';', header=True)"
   ]
  },
  {
   "cell_type": "markdown",
   "id": "db2b0eb4-ec1a-4337-85b3-ed8e13842c74",
   "metadata": {},
   "source": [
    "Le DataFrame chargé, nous donne la qualité d'une boisson, en fonction de plusieurs paramètres : son pH, niveau d'acidité, chlorides, sa densité"
   ]
  },
  {
   "cell_type": "markdown",
   "id": "118aa950-62e6-4f3a-ba21-7d6f93d71bce",
   "metadata": {},
   "source": [
    "Affichez le DataFrame avec la fonction ***show()***"
   ]
  },
  {
   "cell_type": "code",
   "execution_count": 15,
   "id": "fd3abe06-5b83-4f24-b960-c269a6be5c30",
   "metadata": {},
   "outputs": [
    {
     "name": "stdout",
     "output_type": "stream",
     "text": [
      "+-------------+----------------+-----------+--------------+---------+-------------------+--------------------+-------+----+---------+-------+-------+\n",
      "|fixed acidity|volatile acidity|citric acid|residual sugar|chlorides|free sulfur dioxide|total sulfur dioxide|density|  pH|sulphates|alcohol|quality|\n",
      "+-------------+----------------+-----------+--------------+---------+-------------------+--------------------+-------+----+---------+-------+-------+\n",
      "|          7.4|             0.7|          0|           1.9|    0.076|                 11|                  34| 0.9978|3.51|     0.56|    9.4|      5|\n",
      "|          7.8|            0.88|          0|           2.6|    0.098|                 25|                  67| 0.9968| 3.2|     0.68|    9.8|      5|\n",
      "|          7.8|            0.76|       0.04|           2.3|    0.092|                 15|                  54|  0.997|3.26|     0.65|    9.8|      5|\n",
      "|         11.2|            0.28|       0.56|           1.9|    0.075|                 17|                  60|  0.998|3.16|     0.58|    9.8|      6|\n",
      "|          7.4|             0.7|          0|           1.9|    0.076|                 11|                  34| 0.9978|3.51|     0.56|    9.4|      5|\n",
      "|          7.4|            0.66|          0|           1.8|    0.075|                 13|                  40| 0.9978|3.51|     0.56|    9.4|      5|\n",
      "|          7.9|             0.6|       0.06|           1.6|    0.069|                 15|                  59| 0.9964| 3.3|     0.46|    9.4|      5|\n",
      "|          7.3|            0.65|          0|           1.2|    0.065|                 15|                  21| 0.9946|3.39|     0.47|     10|      7|\n",
      "|          7.8|            0.58|       0.02|             2|    0.073|                  9|                  18| 0.9968|3.36|     0.57|    9.5|      7|\n",
      "|          7.5|             0.5|       0.36|           6.1|    0.071|                 17|                 102| 0.9978|3.35|      0.8|   10.5|      5|\n",
      "|          6.7|            0.58|       0.08|           1.8|    0.097|                 15|                  65| 0.9959|3.28|     0.54|    9.2|      5|\n",
      "|          7.5|             0.5|       0.36|           6.1|    0.071|                 17|                 102| 0.9978|3.35|      0.8|   10.5|      5|\n",
      "|          5.6|           0.615|          0|           1.6|    0.089|                 16|                  59| 0.9943|3.58|     0.52|    9.9|      5|\n",
      "|          7.8|            0.61|       0.29|           1.6|    0.114|                  9|                  29| 0.9974|3.26|     1.56|    9.1|      5|\n",
      "|          8.9|            0.62|       0.18|           3.8|    0.176|                 52|                 145| 0.9986|3.16|     0.88|    9.2|      5|\n",
      "|          8.9|            0.62|       0.19|           3.9|     0.17|                 51|                 148| 0.9986|3.17|     0.93|    9.2|      5|\n",
      "|          8.5|            0.28|       0.56|           1.8|    0.092|                 35|                 103| 0.9969| 3.3|     0.75|   10.5|      7|\n",
      "|          8.1|            0.56|       0.28|           1.7|    0.368|                 16|                  56| 0.9968|3.11|     1.28|    9.3|      5|\n",
      "|          7.4|            0.59|       0.08|           4.4|    0.086|                  6|                  29| 0.9974|3.38|      0.5|      9|      4|\n",
      "|          7.9|            0.32|       0.51|           1.8|    0.341|                 17|                  56| 0.9969|3.04|     1.08|    9.2|      6|\n",
      "+-------------+----------------+-----------+--------------+---------+-------------------+--------------------+-------+----+---------+-------+-------+\n",
      "only showing top 20 rows\n",
      "\n"
     ]
    }
   ],
   "source": [
    "drink_quality.show()"
   ]
  },
  {
   "cell_type": "markdown",
   "id": "ac5d4dd9-650c-41c7-9ddc-f4844decb6ca",
   "metadata": {},
   "source": [
    "Avec ***.columns***, affichez les variables du DataFrame."
   ]
  },
  {
   "cell_type": "code",
   "execution_count": 16,
   "id": "0efad741-555c-475c-ada7-0ea38f06c5c7",
   "metadata": {},
   "outputs": [
    {
     "data": {
      "text/plain": [
       "['fixed acidity',\n",
       " 'volatile acidity',\n",
       " 'citric acid',\n",
       " 'residual sugar',\n",
       " 'chlorides',\n",
       " 'free sulfur dioxide',\n",
       " 'total sulfur dioxide',\n",
       " 'density',\n",
       " 'pH',\n",
       " 'sulphates',\n",
       " 'alcohol',\n",
       " 'quality']"
      ]
     },
     "execution_count": 16,
     "metadata": {},
     "output_type": "execute_result"
    }
   ],
   "source": [
    "drink_quality.columns"
   ]
  },
  {
   "cell_type": "markdown",
   "id": "26b074e1-ff22-4e6d-9e0b-fe548a85b3cb",
   "metadata": {},
   "source": [
    "### Vérification de l'utilisation de mémoire (In-Memory)"
   ]
  },
  {
   "cell_type": "markdown",
   "id": "5f9b7a17-209b-4c97-a528-064a5bf008f3",
   "metadata": {},
   "source": [
    "Convertissez le DataFrame Spark en un DataFrame Pandas avec la méthode ***toPandas()***"
   ]
  },
  {
   "cell_type": "code",
   "execution_count": 17,
   "id": "b48d8370-6096-4f44-b24d-ab3c9406408a",
   "metadata": {},
   "outputs": [],
   "source": [
    "drink_quality_pandas_df = drink_quality.toPandas()"
   ]
  },
  {
   "cell_type": "markdown",
   "id": "9b2ef682-4ed5-44ea-9032-893a7a09c4a4",
   "metadata": {},
   "source": [
    "Convertissez le DataFrame chargé en un DataFrame Pandas à l'aide de la fonction \"toPandas()\". \n",
    "Puis, avec la fonction \"info()\", trouvez combien de RAM occupe le dataframe chargé. "
   ]
  },
  {
   "cell_type": "code",
   "execution_count": 19,
   "id": "c2b6ea7c-54c6-4462-bb23-25ac31f144b5",
   "metadata": {},
   "outputs": [
    {
     "name": "stdout",
     "output_type": "stream",
     "text": [
      "<class 'pandas.core.frame.DataFrame'>\n",
      "RangeIndex: 1599 entries, 0 to 1598\n",
      "Data columns (total 12 columns):\n",
      " #   Column                Non-Null Count  Dtype \n",
      "---  ------                --------------  ----- \n",
      " 0   fixed acidity         1599 non-null   object\n",
      " 1   volatile acidity      1599 non-null   object\n",
      " 2   citric acid           1599 non-null   object\n",
      " 3   residual sugar        1599 non-null   object\n",
      " 4   chlorides             1599 non-null   object\n",
      " 5   free sulfur dioxide   1599 non-null   object\n",
      " 6   total sulfur dioxide  1599 non-null   object\n",
      " 7   density               1599 non-null   object\n",
      " 8   pH                    1599 non-null   object\n",
      " 9   sulphates             1599 non-null   object\n",
      " 10  alcohol               1599 non-null   object\n",
      " 11  quality               1599 non-null   object\n",
      "dtypes: object(12)\n",
      "memory usage: 150.0+ KB\n"
     ]
    }
   ],
   "source": [
    "drink_quality_pandas_df.info()"
   ]
  },
  {
   "cell_type": "markdown",
   "id": "6ff74acc-4a8b-440b-b5a9-36a26885071d",
   "metadata": {},
   "source": [
    "Affichez les types des deux DataFrame drink_quality et drink_quality_pandas_df avec la methode ***type()***"
   ]
  },
  {
   "cell_type": "code",
   "execution_count": 20,
   "id": "d33bf259-3484-4731-877f-be973ef66a61",
   "metadata": {},
   "outputs": [
    {
     "name": "stdout",
     "output_type": "stream",
     "text": [
      "Type de drink_quality (Spark DataFrame): <class 'pyspark.sql.dataframe.DataFrame'>\n",
      "Type de drink_quality_pandas_df (Pandas DataFrame): <class 'pandas.core.frame.DataFrame'>\n"
     ]
    }
   ],
   "source": [
    "type_drink_quality = type(drink_quality)\n",
    "type_drink_quality_pandas_df = type(drink_quality_pandas_df)\n",
    "\n",
    "print(\"Type de drink_quality (Spark DataFrame):\", type_drink_quality)\n",
    "print(\"Type de drink_quality_pandas_df (Pandas DataFrame):\", type_drink_quality_pandas_df)\n"
   ]
  },
  {
   "cell_type": "code",
   "execution_count": 21,
   "id": "00ff8809-922b-46b6-8296-2d79b896974b",
   "metadata": {},
   "outputs": [
    {
     "name": "stdout",
     "output_type": "stream",
     "text": [
      "root\n",
      " |-- fixed acidity: string (nullable = true)\n",
      " |-- volatile acidity: string (nullable = true)\n",
      " |-- citric acid: string (nullable = true)\n",
      " |-- residual sugar: string (nullable = true)\n",
      " |-- chlorides: string (nullable = true)\n",
      " |-- free sulfur dioxide: string (nullable = true)\n",
      " |-- total sulfur dioxide: string (nullable = true)\n",
      " |-- density: string (nullable = true)\n",
      " |-- pH: string (nullable = true)\n",
      " |-- sulphates: string (nullable = true)\n",
      " |-- alcohol: string (nullable = true)\n",
      " |-- quality: string (nullable = true)\n",
      "\n"
     ]
    }
   ],
   "source": [
    "drink_quality.printSchema()"
   ]
  },
  {
   "cell_type": "markdown",
   "id": "9e1ac5e5-958b-4935-8050-bc0e58599441",
   "metadata": {},
   "source": [
    "### Data Pre-processing "
   ]
  },
  {
   "cell_type": "markdown",
   "id": "88437206-add3-4a5b-8ff2-97d7963a9d86",
   "metadata": {},
   "source": [
    "Trouvez le type de données de la la variable pH en utilisant ***dataType***"
   ]
  },
  {
   "cell_type": "code",
   "execution_count": 22,
   "id": "01a15174-2ea3-4a86-8095-ab105bf5ab31",
   "metadata": {},
   "outputs": [
    {
     "data": {
      "text/plain": [
       "StringType()"
      ]
     },
     "execution_count": 22,
     "metadata": {},
     "output_type": "execute_result"
    }
   ],
   "source": [
    "drink_quality.schema[\"pH\"].dataType "
   ]
  },
  {
   "cell_type": "markdown",
   "id": "1a2bce50-9ab6-4f29-a622-b2f8c93626c9",
   "metadata": {},
   "source": [
    "Changez les noms des variables suivantes : \n",
    "\"volatile acidity\", \"citric acid\", \"residual sugar\", \"free sulfur dioxide\" et \"total sulfur dioxide\" en remplacant les espaces par des \"_\".\n",
    "Le changement peut être fait à l'aide de la méthode ***withColumnRenamed()***."
   ]
  },
  {
   "cell_type": "code",
   "execution_count": 23,
   "id": "afa36860-8096-40ef-9294-58f275d9c076",
   "metadata": {},
   "outputs": [],
   "source": [
    "drink_quality = drink_quality.withColumnRenamed(\"volatile acidity\", \"volatile_acidity\") \\\n",
    "        .withColumnRenamed(\"citric acid\", \"citric_acid\") \\\n",
    "        .withColumnRenamed(\"residual sugar\", \"residual_sugar\") \\\n",
    "        .withColumnRenamed(\"free sulfur dioxide\", \"free_sulfur_dioxide\") \\\n",
    "        .withColumnRenamed(\"total sulfur dioxide\", \"total_sulfur_dioxide\")"
   ]
  },
  {
   "cell_type": "markdown",
   "id": "1ff92927-ec71-483e-ba22-20bd420b8e3d",
   "metadata": {},
   "source": [
    "Affichez les types des differentes variables du DataFrame, à l'aide la méthode ***printSchema()***"
   ]
  },
  {
   "cell_type": "code",
   "execution_count": 24,
   "id": "87049a1f-2b97-43b6-92ac-ac9069ed84a7",
   "metadata": {},
   "outputs": [
    {
     "name": "stdout",
     "output_type": "stream",
     "text": [
      "root\n",
      " |-- fixed acidity: string (nullable = true)\n",
      " |-- volatile_acidity: string (nullable = true)\n",
      " |-- citric_acid: string (nullable = true)\n",
      " |-- residual_sugar: string (nullable = true)\n",
      " |-- chlorides: string (nullable = true)\n",
      " |-- free_sulfur_dioxide: string (nullable = true)\n",
      " |-- total_sulfur_dioxide: string (nullable = true)\n",
      " |-- density: string (nullable = true)\n",
      " |-- pH: string (nullable = true)\n",
      " |-- sulphates: string (nullable = true)\n",
      " |-- alcohol: string (nullable = true)\n",
      " |-- quality: string (nullable = true)\n",
      "\n"
     ]
    }
   ],
   "source": [
    "drink_quality.printSchema()"
   ]
  },
  {
   "cell_type": "markdown",
   "id": "286e53a1-0ca6-4f53-8c18-e71adf2aff77",
   "metadata": {},
   "source": [
    "Changez le type des différents variables en \"double\" en utilisant la fonction ***cast()***"
   ]
  },
  {
   "cell_type": "code",
   "execution_count": 25,
   "id": "9bf9eed8-98ac-4a5c-acfb-66fd97e1524a",
   "metadata": {},
   "outputs": [],
   "source": [
    "from pyspark.sql.types import DoubleType\n",
    "from pyspark.sql.functions import col\n",
    "\n",
    "\n",
    "\n",
    "for i in drink_quality.columns:\n",
    "    drink_quality = drink_quality.withColumn(i, col(i).cast(\"double\"))"
   ]
  },
  {
   "cell_type": "markdown",
   "id": "39421436-9988-4e92-b0c3-73f761d96a6a",
   "metadata": {},
   "source": [
    "Vérifiez les types des differentes variables du DataFrame. "
   ]
  },
  {
   "cell_type": "code",
   "execution_count": 26,
   "id": "7881910a-85a5-4f78-9424-dbcd4eb0db7f",
   "metadata": {},
   "outputs": [
    {
     "name": "stdout",
     "output_type": "stream",
     "text": [
      "root\n",
      " |-- fixed acidity: double (nullable = true)\n",
      " |-- volatile_acidity: double (nullable = true)\n",
      " |-- citric_acid: double (nullable = true)\n",
      " |-- residual_sugar: double (nullable = true)\n",
      " |-- chlorides: double (nullable = true)\n",
      " |-- free_sulfur_dioxide: double (nullable = true)\n",
      " |-- total_sulfur_dioxide: double (nullable = true)\n",
      " |-- density: double (nullable = true)\n",
      " |-- pH: double (nullable = true)\n",
      " |-- sulphates: double (nullable = true)\n",
      " |-- alcohol: double (nullable = true)\n",
      " |-- quality: double (nullable = true)\n",
      "\n"
     ]
    }
   ],
   "source": [
    "drink_quality.printSchema()"
   ]
  },
  {
   "cell_type": "markdown",
   "id": "f834abee-2612-4764-b301-ff6c74fb4530",
   "metadata": {},
   "source": [
    "Avec la fonction ***describe()***, affichez les caracteristiques du DataFrame"
   ]
  },
  {
   "cell_type": "code",
   "execution_count": 27,
   "id": "cbb27af1-49e5-48ca-9fe5-180e276ab3e4",
   "metadata": {},
   "outputs": [
    {
     "data": {
      "text/plain": [
       "DataFrame[summary: string, fixed acidity: string, volatile_acidity: string, citric_acid: string, residual_sugar: string, chlorides: string, free_sulfur_dioxide: string, total_sulfur_dioxide: string, density: string, pH: string, sulphates: string, alcohol: string, quality: string]"
      ]
     },
     "execution_count": 27,
     "metadata": {},
     "output_type": "execute_result"
    }
   ],
   "source": [
    "drink_quality.describe()"
   ]
  },
  {
   "cell_type": "markdown",
   "id": "638d1508-855a-4b19-9449-9262d3c016af",
   "metadata": {},
   "source": [
    "### Selection depuis un DataFrame"
   ]
  },
  {
   "cell_type": "code",
   "execution_count": 34,
   "id": "6eac6ee0-531d-46b7-9c02-8087f6c6be88",
   "metadata": {},
   "outputs": [],
   "source": [
    "from pyspark.sql.functions import *"
   ]
  },
  {
   "cell_type": "markdown",
   "id": "97d00433-3200-4e7b-bbb1-8106330b415a",
   "metadata": {},
   "source": [
    "Avec la méthode \"select()\", affichez le DataFrame avec les colonnes suivantes : fixed_acidity, sulphates, pH,  quality."
   ]
  },
  {
   "cell_type": "code",
   "execution_count": 31,
   "id": "12f25d1a-487b-4329-9f04-dad2e2bee327",
   "metadata": {},
   "outputs": [
    {
     "name": "stdout",
     "output_type": "stream",
     "text": [
      "+-------------+---------+----+-------+\n",
      "|fixed acidity|sulphates|  pH|quality|\n",
      "+-------------+---------+----+-------+\n",
      "|          7.4|     0.56|3.51|    5.0|\n",
      "|          7.8|     0.68| 3.2|    5.0|\n",
      "|          7.8|     0.65|3.26|    5.0|\n",
      "|         11.2|     0.58|3.16|    6.0|\n",
      "|          7.4|     0.56|3.51|    5.0|\n",
      "|          7.4|     0.56|3.51|    5.0|\n",
      "|          7.9|     0.46| 3.3|    5.0|\n",
      "|          7.3|     0.47|3.39|    7.0|\n",
      "|          7.8|     0.57|3.36|    7.0|\n",
      "|          7.5|      0.8|3.35|    5.0|\n",
      "|          6.7|     0.54|3.28|    5.0|\n",
      "|          7.5|      0.8|3.35|    5.0|\n",
      "|          5.6|     0.52|3.58|    5.0|\n",
      "|          7.8|     1.56|3.26|    5.0|\n",
      "|          8.9|     0.88|3.16|    5.0|\n",
      "|          8.9|     0.93|3.17|    5.0|\n",
      "|          8.5|     0.75| 3.3|    7.0|\n",
      "|          8.1|     1.28|3.11|    5.0|\n",
      "|          7.4|      0.5|3.38|    4.0|\n",
      "|          7.9|     1.08|3.04|    6.0|\n",
      "+-------------+---------+----+-------+\n",
      "only showing top 20 rows\n",
      "\n"
     ]
    }
   ],
   "source": [
    "drink_quality.select(\"fixed acidity\", \"sulphates\", \"pH\", \"quality\").show()"
   ]
  },
  {
   "cell_type": "markdown",
   "id": "bdc9e16f-abbb-4e48-89fe-1cfb60c3c86e",
   "metadata": {},
   "source": [
    "### Ordonner un DataFrame (OrderBy)"
   ]
  },
  {
   "cell_type": "markdown",
   "id": "82b9bb7e-b40d-439f-86a7-d534e6473b4b",
   "metadata": {},
   "source": [
    "Ordonnez le résultat de la cellule précedente en se basant sur les valeurs variable \"quality\"."
   ]
  },
  {
   "cell_type": "code",
   "execution_count": 32,
   "id": "a01a1e2e-b086-4e60-aa94-96723e92e8a9",
   "metadata": {},
   "outputs": [
    {
     "name": "stdout",
     "output_type": "stream",
     "text": [
      "+-------------+---------+----+-------+\n",
      "|fixed acidity|sulphates|  pH|quality|\n",
      "+-------------+---------+----+-------+\n",
      "|         11.6|     0.57|3.25|    3.0|\n",
      "|         10.4|     0.63|3.16|    3.0|\n",
      "|          7.4|     0.54|3.63|    3.0|\n",
      "|         10.4|     0.86|3.38|    3.0|\n",
      "|          8.3|     0.49|3.48|    3.0|\n",
      "|          7.6|      0.4| 3.5|    3.0|\n",
      "|          6.8|     0.51|3.32|    3.0|\n",
      "|          7.3|     0.55|3.31|    3.0|\n",
      "|          7.1|     0.52| 3.4|    3.0|\n",
      "|          6.7|     0.63|3.55|    3.0|\n",
      "|          8.3|     0.53|3.31|    4.0|\n",
      "|          8.8|     0.51|3.26|    4.0|\n",
      "|          8.3|     1.12|3.16|    4.0|\n",
      "|          7.0|      0.6|3.35|    4.0|\n",
      "|          8.1|     0.72| 3.6|    4.0|\n",
      "|          7.1|     0.57|3.41|    4.0|\n",
      "|         12.5|     0.57|3.05|    4.0|\n",
      "|          5.0|     0.48|3.75|    4.0|\n",
      "|          7.4|      0.5|3.38|    4.0|\n",
      "|          7.6|     1.08|3.17|    4.0|\n",
      "+-------------+---------+----+-------+\n",
      "only showing top 20 rows\n",
      "\n"
     ]
    }
   ],
   "source": [
    "drink_quality.select(\"fixed acidity\", \"sulphates\", \"pH\", \"quality\").orderBy(\"quality\").show()"
   ]
  },
  {
   "cell_type": "markdown",
   "id": "2f11c260-5c17-4a23-a3da-7f5ef3e4bda3",
   "metadata": {},
   "source": [
    "Faites la même chose mais en ordonnant le résultat en fonction des valeurs ***déscendantes*** de la variable \"quality\". "
   ]
  },
  {
   "cell_type": "code",
   "execution_count": 33,
   "id": "17a0073d-d373-4a47-afd4-b58386490dce",
   "metadata": {},
   "outputs": [
    {
     "name": "stdout",
     "output_type": "stream",
     "text": [
      "+-------------+---------+----+-------+\n",
      "|fixed acidity|sulphates|  pH|quality|\n",
      "+-------------+---------+----+-------+\n",
      "|          7.9|     0.86|3.35|    8.0|\n",
      "|         10.3|     0.82|3.23|    8.0|\n",
      "|          5.6|     0.82|3.56|    8.0|\n",
      "|         12.6|     0.82|2.88|    8.0|\n",
      "|         11.3|     0.69|3.22|    8.0|\n",
      "|          9.4|     0.92|3.15|    8.0|\n",
      "|         10.7|     0.65|3.15|    8.0|\n",
      "|         10.7|     0.65|3.15|    8.0|\n",
      "|          5.0|     0.74|3.72|    8.0|\n",
      "|          7.8|     0.74|3.46|    8.0|\n",
      "|          9.1|     0.69|3.21|    8.0|\n",
      "|         10.0|     0.63|2.98|    8.0|\n",
      "|          7.9|     0.72| 3.2|    8.0|\n",
      "|          8.6|     0.69|3.35|    8.0|\n",
      "|          5.5|     0.82| 3.5|    8.0|\n",
      "|          7.2|      1.1|3.23|    8.0|\n",
      "|          7.2|     0.76|3.23|    8.0|\n",
      "|          7.4|      0.7|3.24|    8.0|\n",
      "|          5.4|     0.85|3.57|    7.0|\n",
      "|          8.5|     0.75| 3.3|    7.0|\n",
      "+-------------+---------+----+-------+\n",
      "only showing top 20 rows\n",
      "\n"
     ]
    }
   ],
   "source": [
    "drink_quality.select(\"fixed acidity\", \"sulphates\", \"pH\", \"quality\").orderBy(\"quality\", ascending=False).show()"
   ]
  },
  {
   "cell_type": "markdown",
   "id": "92093f96-9b53-4d63-ab6e-6834eb7996a7",
   "metadata": {},
   "source": [
    "### Verification isin "
   ]
  },
  {
   "cell_type": "markdown",
   "id": "b4c02af2-eba8-4d55-bc3b-29d2b15b3499",
   "metadata": {},
   "source": [
    "Affichez les instances du DataFrame dont la valeur de la variable quality vaut 3 ou 4, en utilisant la méthode ***isin()***"
   ]
  },
  {
   "cell_type": "code",
   "execution_count": 34,
   "id": "6a980b5d-6df3-40fd-b659-c436711c21f8",
   "metadata": {},
   "outputs": [
    {
     "data": {
      "text/plain": [
       "[Row(fixed acidity=7.4, volatile_acidity=0.59, citric_acid=0.08, residual_sugar=4.4, chlorides=0.086, free_sulfur_dioxide=6.0, total_sulfur_dioxide=29.0, density=0.9974, pH=3.38, sulphates=0.5, alcohol=9.0, quality=4.0),\n",
       " Row(fixed acidity=5.7, volatile_acidity=1.13, citric_acid=0.09, residual_sugar=1.5, chlorides=0.172, free_sulfur_dioxide=7.0, total_sulfur_dioxide=19.0, density=0.994, pH=3.5, sulphates=0.48, alcohol=9.8, quality=4.0),\n",
       " Row(fixed acidity=8.8, volatile_acidity=0.61, citric_acid=0.3, residual_sugar=2.8, chlorides=0.088, free_sulfur_dioxide=17.0, total_sulfur_dioxide=46.0, density=0.9976, pH=3.26, sulphates=0.51, alcohol=9.3, quality=4.0),\n",
       " Row(fixed acidity=4.6, volatile_acidity=0.52, citric_acid=0.15, residual_sugar=2.1, chlorides=0.054, free_sulfur_dioxide=8.0, total_sulfur_dioxide=65.0, density=0.9934, pH=3.9, sulphates=0.56, alcohol=13.1, quality=4.0),\n",
       " Row(fixed acidity=8.3, volatile_acidity=0.675, citric_acid=0.26, residual_sugar=2.1, chlorides=0.084, free_sulfur_dioxide=11.0, total_sulfur_dioxide=43.0, density=0.9976, pH=3.31, sulphates=0.53, alcohol=9.2, quality=4.0),\n",
       " Row(fixed acidity=8.3, volatile_acidity=0.625, citric_acid=0.2, residual_sugar=1.5, chlorides=0.08, free_sulfur_dioxide=27.0, total_sulfur_dioxide=119.0, density=0.9972, pH=3.16, sulphates=1.12, alcohol=9.1, quality=4.0),\n",
       " Row(fixed acidity=5.0, volatile_acidity=1.02, citric_acid=0.04, residual_sugar=1.4, chlorides=0.045, free_sulfur_dioxide=41.0, total_sulfur_dioxide=85.0, density=0.9938, pH=3.75, sulphates=0.48, alcohol=10.5, quality=4.0),\n",
       " Row(fixed acidity=9.2, volatile_acidity=0.52, citric_acid=1.0, residual_sugar=3.4, chlorides=0.61, free_sulfur_dioxide=32.0, total_sulfur_dioxide=69.0, density=0.9996, pH=2.74, sulphates=2.0, alcohol=9.4, quality=4.0),\n",
       " Row(fixed acidity=7.6, volatile_acidity=0.68, citric_acid=0.02, residual_sugar=1.3, chlorides=0.072, free_sulfur_dioxide=9.0, total_sulfur_dioxide=20.0, density=0.9965, pH=3.17, sulphates=1.08, alcohol=9.2, quality=4.0),\n",
       " Row(fixed acidity=7.3, volatile_acidity=0.55, citric_acid=0.03, residual_sugar=1.6, chlorides=0.072, free_sulfur_dioxide=17.0, total_sulfur_dioxide=42.0, density=0.9956, pH=3.37, sulphates=0.48, alcohol=9.0, quality=4.0),\n",
       " Row(fixed acidity=7.9, volatile_acidity=0.885, citric_acid=0.03, residual_sugar=1.8, chlorides=0.058, free_sulfur_dioxide=4.0, total_sulfur_dioxide=8.0, density=0.9972, pH=3.36, sulphates=0.33, alcohol=9.1, quality=4.0),\n",
       " Row(fixed acidity=6.9, volatile_acidity=1.09, citric_acid=0.06, residual_sugar=2.1, chlorides=0.061, free_sulfur_dioxide=12.0, total_sulfur_dioxide=31.0, density=0.9948, pH=3.51, sulphates=0.43, alcohol=11.4, quality=4.0),\n",
       " Row(fixed acidity=8.4, volatile_acidity=0.635, citric_acid=0.36, residual_sugar=2.0, chlorides=0.089, free_sulfur_dioxide=15.0, total_sulfur_dioxide=55.0, density=0.99745, pH=3.31, sulphates=0.57, alcohol=10.4, quality=4.0),\n",
       " Row(fixed acidity=7.0, volatile_acidity=0.975, citric_acid=0.04, residual_sugar=2.0, chlorides=0.087, free_sulfur_dioxide=12.0, total_sulfur_dioxide=67.0, density=0.99565, pH=3.35, sulphates=0.6, alcohol=9.4, quality=4.0),\n",
       " Row(fixed acidity=8.1, volatile_acidity=0.87, citric_acid=0.0, residual_sugar=3.3, chlorides=0.096, free_sulfur_dioxide=26.0, total_sulfur_dioxide=61.0, density=1.00025, pH=3.6, sulphates=0.72, alcohol=9.8, quality=4.0),\n",
       " Row(fixed acidity=12.5, volatile_acidity=0.46, citric_acid=0.49, residual_sugar=4.5, chlorides=0.07, free_sulfur_dioxide=26.0, total_sulfur_dioxide=49.0, density=0.9981, pH=3.05, sulphates=0.57, alcohol=9.6, quality=4.0),\n",
       " Row(fixed acidity=11.6, volatile_acidity=0.58, citric_acid=0.66, residual_sugar=2.2, chlorides=0.074, free_sulfur_dioxide=10.0, total_sulfur_dioxide=47.0, density=1.0008, pH=3.25, sulphates=0.57, alcohol=9.0, quality=3.0),\n",
       " Row(fixed acidity=10.4, volatile_acidity=0.61, citric_acid=0.49, residual_sugar=2.1, chlorides=0.2, free_sulfur_dioxide=5.0, total_sulfur_dioxide=16.0, density=0.9994, pH=3.16, sulphates=0.63, alcohol=8.4, quality=3.0),\n",
       " Row(fixed acidity=10.5, volatile_acidity=0.59, citric_acid=0.49, residual_sugar=2.1, chlorides=0.07, free_sulfur_dioxide=14.0, total_sulfur_dioxide=47.0, density=0.9991, pH=3.3, sulphates=0.56, alcohol=9.6, quality=4.0),\n",
       " Row(fixed acidity=9.9, volatile_acidity=0.5, citric_acid=0.24, residual_sugar=2.3, chlorides=0.103, free_sulfur_dioxide=6.0, total_sulfur_dioxide=14.0, density=0.9978, pH=3.34, sulphates=0.52, alcohol=10.0, quality=4.0),\n",
       " Row(fixed acidity=8.2, volatile_acidity=0.915, citric_acid=0.27, residual_sugar=2.1, chlorides=0.088, free_sulfur_dioxide=7.0, total_sulfur_dioxide=23.0, density=0.9962, pH=3.26, sulphates=0.47, alcohol=10.0, quality=4.0),\n",
       " Row(fixed acidity=10.1, volatile_acidity=0.935, citric_acid=0.22, residual_sugar=3.4, chlorides=0.105, free_sulfur_dioxide=11.0, total_sulfur_dioxide=86.0, density=1.001, pH=3.43, sulphates=0.64, alcohol=11.3, quality=4.0),\n",
       " Row(fixed acidity=8.3, volatile_acidity=0.845, citric_acid=0.01, residual_sugar=2.2, chlorides=0.07, free_sulfur_dioxide=5.0, total_sulfur_dioxide=14.0, density=0.9967, pH=3.32, sulphates=0.58, alcohol=11.0, quality=4.0),\n",
       " Row(fixed acidity=7.1, volatile_acidity=0.84, citric_acid=0.02, residual_sugar=4.4, chlorides=0.096, free_sulfur_dioxide=5.0, total_sulfur_dioxide=13.0, density=0.997, pH=3.41, sulphates=0.57, alcohol=11.0, quality=4.0),\n",
       " Row(fixed acidity=7.4, volatile_acidity=1.185, citric_acid=0.0, residual_sugar=4.25, chlorides=0.097, free_sulfur_dioxide=5.0, total_sulfur_dioxide=14.0, density=0.9966, pH=3.63, sulphates=0.54, alcohol=10.7, quality=3.0),\n",
       " Row(fixed acidity=7.5, volatile_acidity=0.38, citric_acid=0.48, residual_sugar=2.6, chlorides=0.073, free_sulfur_dioxide=22.0, total_sulfur_dioxide=84.0, density=0.9972, pH=3.32, sulphates=0.7, alcohol=9.6, quality=4.0),\n",
       " Row(fixed acidity=9.1, volatile_acidity=0.765, citric_acid=0.04, residual_sugar=1.6, chlorides=0.078, free_sulfur_dioxide=4.0, total_sulfur_dioxide=14.0, density=0.998, pH=3.29, sulphates=0.54, alcohol=9.7, quality=4.0),\n",
       " Row(fixed acidity=7.5, volatile_acidity=1.115, citric_acid=0.1, residual_sugar=3.1, chlorides=0.086, free_sulfur_dioxide=5.0, total_sulfur_dioxide=12.0, density=0.9958, pH=3.54, sulphates=0.6, alcohol=11.2, quality=4.0),\n",
       " Row(fixed acidity=6.9, volatile_acidity=0.39, citric_acid=0.24, residual_sugar=2.1, chlorides=0.102, free_sulfur_dioxide=4.0, total_sulfur_dioxide=7.0, density=0.99462, pH=3.44, sulphates=0.58, alcohol=11.4, quality=4.0),\n",
       " Row(fixed acidity=7.5, volatile_acidity=0.685, citric_acid=0.07, residual_sugar=2.5, chlorides=0.058, free_sulfur_dioxide=5.0, total_sulfur_dioxide=9.0, density=0.99632, pH=3.38, sulphates=0.55, alcohol=10.9, quality=4.0),\n",
       " Row(fixed acidity=10.4, volatile_acidity=0.44, citric_acid=0.42, residual_sugar=1.5, chlorides=0.145, free_sulfur_dioxide=34.0, total_sulfur_dioxide=48.0, density=0.99832, pH=3.38, sulphates=0.86, alcohol=9.9, quality=3.0),\n",
       " Row(fixed acidity=11.6, volatile_acidity=0.47, citric_acid=0.44, residual_sugar=1.6, chlorides=0.147, free_sulfur_dioxide=36.0, total_sulfur_dioxide=51.0, density=0.99836, pH=3.38, sulphates=0.86, alcohol=9.9, quality=4.0),\n",
       " Row(fixed acidity=7.3, volatile_acidity=0.35, citric_acid=0.24, residual_sugar=2.0, chlorides=0.067, free_sulfur_dioxide=28.0, total_sulfur_dioxide=48.0, density=0.99576, pH=3.43, sulphates=0.54, alcohol=10.0, quality=4.0),\n",
       " Row(fixed acidity=7.1, volatile_acidity=0.47, citric_acid=0.0, residual_sugar=2.2, chlorides=0.067, free_sulfur_dioxide=7.0, total_sulfur_dioxide=14.0, density=0.99517, pH=3.4, sulphates=0.58, alcohol=10.9, quality=4.0),\n",
       " Row(fixed acidity=8.3, volatile_acidity=1.02, citric_acid=0.02, residual_sugar=3.4, chlorides=0.084, free_sulfur_dioxide=6.0, total_sulfur_dioxide=11.0, density=0.99892, pH=3.48, sulphates=0.49, alcohol=11.0, quality=3.0),\n",
       " Row(fixed acidity=8.4, volatile_acidity=0.67, citric_acid=0.19, residual_sugar=2.2, chlorides=0.093, free_sulfur_dioxide=11.0, total_sulfur_dioxide=75.0, density=0.99736, pH=3.2, sulphates=0.59, alcohol=9.2, quality=4.0),\n",
       " Row(fixed acidity=12.0, volatile_acidity=0.63, citric_acid=0.5, residual_sugar=1.4, chlorides=0.071, free_sulfur_dioxide=6.0, total_sulfur_dioxide=26.0, density=0.99791, pH=3.07, sulphates=0.6, alcohol=10.4, quality=4.0),\n",
       " Row(fixed acidity=6.5, volatile_acidity=0.58, citric_acid=0.0, residual_sugar=2.2, chlorides=0.096, free_sulfur_dioxide=3.0, total_sulfur_dioxide=13.0, density=0.99557, pH=3.62, sulphates=0.62, alcohol=11.5, quality=4.0),\n",
       " Row(fixed acidity=6.5, volatile_acidity=0.88, citric_acid=0.03, residual_sugar=5.6, chlorides=0.079, free_sulfur_dioxide=23.0, total_sulfur_dioxide=47.0, density=0.99572, pH=3.58, sulphates=0.5, alcohol=11.2, quality=4.0),\n",
       " Row(fixed acidity=8.8, volatile_acidity=0.955, citric_acid=0.05, residual_sugar=1.8, chlorides=0.075, free_sulfur_dioxide=5.0, total_sulfur_dioxide=19.0, density=0.99616, pH=3.3, sulphates=0.44, alcohol=9.6, quality=4.0),\n",
       " Row(fixed acidity=10.2, volatile_acidity=0.23, citric_acid=0.37, residual_sugar=2.2, chlorides=0.057, free_sulfur_dioxide=14.0, total_sulfur_dioxide=36.0, density=0.99614, pH=3.23, sulphates=0.49, alcohol=9.3, quality=4.0),\n",
       " Row(fixed acidity=6.0, volatile_acidity=0.33, citric_acid=0.32, residual_sugar=12.9, chlorides=0.054, free_sulfur_dioxide=6.0, total_sulfur_dioxide=113.0, density=0.99572, pH=3.3, sulphates=0.56, alcohol=11.5, quality=4.0),\n",
       " Row(fixed acidity=8.1, volatile_acidity=0.73, citric_acid=0.0, residual_sugar=2.5, chlorides=0.081, free_sulfur_dioxide=12.0, total_sulfur_dioxide=24.0, density=0.99798, pH=3.38, sulphates=0.46, alcohol=9.6, quality=4.0),\n",
       " Row(fixed acidity=6.5, volatile_acidity=0.67, citric_acid=0.0, residual_sugar=4.3, chlorides=0.057, free_sulfur_dioxide=11.0, total_sulfur_dioxide=20.0, density=0.99488, pH=3.45, sulphates=0.56, alcohol=11.8, quality=4.0),\n",
       " Row(fixed acidity=6.3, volatile_acidity=1.02, citric_acid=0.0, residual_sugar=2.0, chlorides=0.083, free_sulfur_dioxide=17.0, total_sulfur_dioxide=24.0, density=0.99437, pH=3.59, sulphates=0.55, alcohol=11.2, quality=4.0),\n",
       " Row(fixed acidity=8.2, volatile_acidity=0.78, citric_acid=0.0, residual_sugar=2.2, chlorides=0.089, free_sulfur_dioxide=13.0, total_sulfur_dioxide=26.0, density=0.9978, pH=3.37, sulphates=0.46, alcohol=9.6, quality=4.0),\n",
       " Row(fixed acidity=8.5, volatile_acidity=0.4, citric_acid=0.4, residual_sugar=6.3, chlorides=0.05, free_sulfur_dioxide=3.0, total_sulfur_dioxide=10.0, density=0.99566, pH=3.28, sulphates=0.56, alcohol=12.0, quality=4.0),\n",
       " Row(fixed acidity=7.5, volatile_acidity=0.755, citric_acid=0.0, residual_sugar=1.9, chlorides=0.084, free_sulfur_dioxide=6.0, total_sulfur_dioxide=12.0, density=0.99672, pH=3.34, sulphates=0.49, alcohol=9.7, quality=4.0),\n",
       " Row(fixed acidity=7.6, volatile_acidity=1.58, citric_acid=0.0, residual_sugar=2.1, chlorides=0.137, free_sulfur_dioxide=5.0, total_sulfur_dioxide=9.0, density=0.99476, pH=3.5, sulphates=0.4, alcohol=10.9, quality=3.0),\n",
       " Row(fixed acidity=6.8, volatile_acidity=0.68, citric_acid=0.09, residual_sugar=3.9, chlorides=0.068, free_sulfur_dioxide=15.0, total_sulfur_dioxide=29.0, density=0.99524, pH=3.41, sulphates=0.52, alcohol=11.1, quality=4.0),\n",
       " Row(fixed acidity=8.0, volatile_acidity=0.83, citric_acid=0.27, residual_sugar=2.0, chlorides=0.08, free_sulfur_dioxide=11.0, total_sulfur_dioxide=63.0, density=0.99652, pH=3.29, sulphates=0.48, alcohol=9.8, quality=4.0),\n",
       " Row(fixed acidity=6.6, volatile_acidity=0.61, citric_acid=0.0, residual_sugar=1.6, chlorides=0.069, free_sulfur_dioxide=4.0, total_sulfur_dioxide=8.0, density=0.99396, pH=3.33, sulphates=0.37, alcohol=10.4, quality=4.0),\n",
       " Row(fixed acidity=6.8, volatile_acidity=0.815, citric_acid=0.0, residual_sugar=1.2, chlorides=0.267, free_sulfur_dioxide=16.0, total_sulfur_dioxide=29.0, density=0.99471, pH=3.32, sulphates=0.51, alcohol=9.8, quality=3.0),\n",
       " Row(fixed acidity=6.4, volatile_acidity=0.53, citric_acid=0.09, residual_sugar=3.9, chlorides=0.123, free_sulfur_dioxide=14.0, total_sulfur_dioxide=31.0, density=0.9968, pH=3.5, sulphates=0.67, alcohol=11.0, quality=4.0),\n",
       " Row(fixed acidity=6.2, volatile_acidity=0.785, citric_acid=0.0, residual_sugar=2.1, chlorides=0.06, free_sulfur_dioxide=6.0, total_sulfur_dioxide=13.0, density=0.99664, pH=3.59, sulphates=0.61, alcohol=10.0, quality=4.0),\n",
       " Row(fixed acidity=6.7, volatile_acidity=1.04, citric_acid=0.08, residual_sugar=2.3, chlorides=0.067, free_sulfur_dioxide=19.0, total_sulfur_dioxide=32.0, density=0.99648, pH=3.52, sulphates=0.57, alcohol=11.0, quality=4.0),\n",
       " Row(fixed acidity=7.3, volatile_acidity=0.98, citric_acid=0.05, residual_sugar=2.1, chlorides=0.061, free_sulfur_dioxide=20.0, total_sulfur_dioxide=49.0, density=0.99705, pH=3.31, sulphates=0.55, alcohol=9.7, quality=3.0),\n",
       " Row(fixed acidity=7.1, volatile_acidity=0.875, citric_acid=0.05, residual_sugar=5.7, chlorides=0.082, free_sulfur_dioxide=3.0, total_sulfur_dioxide=14.0, density=0.99808, pH=3.4, sulphates=0.52, alcohol=10.2, quality=3.0),\n",
       " Row(fixed acidity=5.6, volatile_acidity=0.62, citric_acid=0.03, residual_sugar=1.5, chlorides=0.08, free_sulfur_dioxide=6.0, total_sulfur_dioxide=13.0, density=0.99498, pH=3.66, sulphates=0.62, alcohol=10.1, quality=4.0),\n",
       " Row(fixed acidity=7.2, volatile_acidity=0.58, citric_acid=0.54, residual_sugar=2.1, chlorides=0.114, free_sulfur_dioxide=3.0, total_sulfur_dioxide=9.0, density=0.99719, pH=3.33, sulphates=0.57, alcohol=10.3, quality=4.0),\n",
       " Row(fixed acidity=6.8, volatile_acidity=0.91, citric_acid=0.06, residual_sugar=2.0, chlorides=0.06, free_sulfur_dioxide=4.0, total_sulfur_dioxide=11.0, density=0.99592, pH=3.53, sulphates=0.64, alcohol=10.9, quality=4.0),\n",
       " Row(fixed acidity=6.7, volatile_acidity=0.76, citric_acid=0.02, residual_sugar=1.8, chlorides=0.078, free_sulfur_dioxide=6.0, total_sulfur_dioxide=12.0, density=0.996, pH=3.55, sulphates=0.63, alcohol=9.95, quality=3.0),\n",
       " Row(fixed acidity=6.9, volatile_acidity=0.48, citric_acid=0.2, residual_sugar=1.9, chlorides=0.082, free_sulfur_dioxide=9.0, total_sulfur_dioxide=23.0, density=0.99585, pH=3.39, sulphates=0.43, alcohol=9.05, quality=4.0)]"
      ]
     },
     "execution_count": 34,
     "metadata": {},
     "output_type": "execute_result"
    }
   ],
   "source": [
    "drink_quality[drink_quality.quality.isin(3,4)].collect()"
   ]
  },
  {
   "cell_type": "markdown",
   "id": "09435c06-0538-4c36-8ff7-a698214a7a00",
   "metadata": {},
   "source": [
    "### Decoupage d'un DataFrame"
   ]
  },
  {
   "cell_type": "markdown",
   "id": "c4be5f96-944a-43ca-a997-645a73fde8a8",
   "metadata": {},
   "source": [
    "#### Découpage de ligne (slicing)"
   ]
  },
  {
   "cell_type": "markdown",
   "id": "fccdda1d-bdae-4231-9313-07121ef55929",
   "metadata": {},
   "source": [
    "Comptez le nombre de ligne avec la méthode ***count()***"
   ]
  },
  {
   "cell_type": "code",
   "execution_count": 35,
   "id": "d40a3648-5e41-41aa-8ad4-4d64a6828f83",
   "metadata": {},
   "outputs": [
    {
     "name": "stdout",
     "output_type": "stream",
     "text": [
      "Nombre de lignes est : 1599\n"
     ]
    }
   ],
   "source": [
    "print('Nombre de lignes est :',drink_quality.count())\n"
   ]
  },
  {
   "cell_type": "markdown",
   "id": "5811a113-05b4-4946-be0a-11b64cb2231a",
   "metadata": {},
   "source": [
    "Selectionnez les 20 premières lignes du DataFrame avec la méthode ***limit()***"
   ]
  },
  {
   "cell_type": "code",
   "execution_count": 36,
   "id": "a4057617-30a7-4f29-9404-d5340dadc4a8",
   "metadata": {},
   "outputs": [
    {
     "name": "stdout",
     "output_type": "stream",
     "text": [
      "+-------------+----------------+-----------+--------------+---------+-------------------+--------------------+-------+----+---------+-------+-------+\n",
      "|fixed acidity|volatile_acidity|citric_acid|residual_sugar|chlorides|free_sulfur_dioxide|total_sulfur_dioxide|density|  pH|sulphates|alcohol|quality|\n",
      "+-------------+----------------+-----------+--------------+---------+-------------------+--------------------+-------+----+---------+-------+-------+\n",
      "|          7.4|             0.7|        0.0|           1.9|    0.076|               11.0|                34.0| 0.9978|3.51|     0.56|    9.4|    5.0|\n",
      "|          7.8|            0.88|        0.0|           2.6|    0.098|               25.0|                67.0| 0.9968| 3.2|     0.68|    9.8|    5.0|\n",
      "|          7.8|            0.76|       0.04|           2.3|    0.092|               15.0|                54.0|  0.997|3.26|     0.65|    9.8|    5.0|\n",
      "|         11.2|            0.28|       0.56|           1.9|    0.075|               17.0|                60.0|  0.998|3.16|     0.58|    9.8|    6.0|\n",
      "|          7.4|             0.7|        0.0|           1.9|    0.076|               11.0|                34.0| 0.9978|3.51|     0.56|    9.4|    5.0|\n",
      "|          7.4|            0.66|        0.0|           1.8|    0.075|               13.0|                40.0| 0.9978|3.51|     0.56|    9.4|    5.0|\n",
      "|          7.9|             0.6|       0.06|           1.6|    0.069|               15.0|                59.0| 0.9964| 3.3|     0.46|    9.4|    5.0|\n",
      "|          7.3|            0.65|        0.0|           1.2|    0.065|               15.0|                21.0| 0.9946|3.39|     0.47|   10.0|    7.0|\n",
      "|          7.8|            0.58|       0.02|           2.0|    0.073|                9.0|                18.0| 0.9968|3.36|     0.57|    9.5|    7.0|\n",
      "|          7.5|             0.5|       0.36|           6.1|    0.071|               17.0|               102.0| 0.9978|3.35|      0.8|   10.5|    5.0|\n",
      "|          6.7|            0.58|       0.08|           1.8|    0.097|               15.0|                65.0| 0.9959|3.28|     0.54|    9.2|    5.0|\n",
      "|          7.5|             0.5|       0.36|           6.1|    0.071|               17.0|               102.0| 0.9978|3.35|      0.8|   10.5|    5.0|\n",
      "|          5.6|           0.615|        0.0|           1.6|    0.089|               16.0|                59.0| 0.9943|3.58|     0.52|    9.9|    5.0|\n",
      "|          7.8|            0.61|       0.29|           1.6|    0.114|                9.0|                29.0| 0.9974|3.26|     1.56|    9.1|    5.0|\n",
      "|          8.9|            0.62|       0.18|           3.8|    0.176|               52.0|               145.0| 0.9986|3.16|     0.88|    9.2|    5.0|\n",
      "|          8.9|            0.62|       0.19|           3.9|     0.17|               51.0|               148.0| 0.9986|3.17|     0.93|    9.2|    5.0|\n",
      "|          8.5|            0.28|       0.56|           1.8|    0.092|               35.0|               103.0| 0.9969| 3.3|     0.75|   10.5|    7.0|\n",
      "|          8.1|            0.56|       0.28|           1.7|    0.368|               16.0|                56.0| 0.9968|3.11|     1.28|    9.3|    5.0|\n",
      "|          7.4|            0.59|       0.08|           4.4|    0.086|                6.0|                29.0| 0.9974|3.38|      0.5|    9.0|    4.0|\n",
      "|          7.9|            0.32|       0.51|           1.8|    0.341|               17.0|                56.0| 0.9969|3.04|     1.08|    9.2|    6.0|\n",
      "+-------------+----------------+-----------+--------------+---------+-------------------+--------------------+-------+----+---------+-------+-------+\n",
      "\n"
     ]
    }
   ],
   "source": [
    "drink_quality.limit(20).show()"
   ]
  },
  {
   "cell_type": "markdown",
   "id": "5fe4236f-820b-46a2-8051-718e61958b41",
   "metadata": {},
   "source": [
    "#### Découpage de colonnes(slicing)"
   ]
  },
  {
   "cell_type": "markdown",
   "id": "0d38c447-70d7-4ecb-98ef-1bdad71e6003",
   "metadata": {},
   "source": [
    "Affichez le nombre de colonnes du DataFrame avec la méthode ***len()***"
   ]
  },
  {
   "cell_type": "code",
   "execution_count": 37,
   "id": "5636cfbc-55af-4c75-813e-1eaf9608284a",
   "metadata": {},
   "outputs": [
    {
     "name": "stdout",
     "output_type": "stream",
     "text": [
      "Nombre de colonnes est : 12\n"
     ]
    }
   ],
   "source": [
    "print('Nombre de colonnes est :',len(drink_quality.columns))\n"
   ]
  },
  {
   "cell_type": "markdown",
   "id": "f29c3abf-27e8-4d3a-818e-b84acf10013e",
   "metadata": {},
   "source": [
    "Selectionnez les 5 premieres colonnes du DataFrame à l'aide de la méthode ***select()***"
   ]
  },
  {
   "cell_type": "code",
   "execution_count": 39,
   "id": "40cae8cf-50ac-4554-bc77-190425013712",
   "metadata": {},
   "outputs": [
    {
     "name": "stdout",
     "output_type": "stream",
     "text": [
      "+-------------+----------------+-----------+--------------+---------+\n",
      "|fixed acidity|volatile_acidity|citric_acid|residual_sugar|chlorides|\n",
      "+-------------+----------------+-----------+--------------+---------+\n",
      "|          7.4|             0.7|        0.0|           1.9|    0.076|\n",
      "|          7.8|            0.88|        0.0|           2.6|    0.098|\n",
      "|          7.8|            0.76|       0.04|           2.3|    0.092|\n",
      "|         11.2|            0.28|       0.56|           1.9|    0.075|\n",
      "|          7.4|             0.7|        0.0|           1.9|    0.076|\n",
      "|          7.4|            0.66|        0.0|           1.8|    0.075|\n",
      "|          7.9|             0.6|       0.06|           1.6|    0.069|\n",
      "|          7.3|            0.65|        0.0|           1.2|    0.065|\n",
      "|          7.8|            0.58|       0.02|           2.0|    0.073|\n",
      "|          7.5|             0.5|       0.36|           6.1|    0.071|\n",
      "+-------------+----------------+-----------+--------------+---------+\n",
      "only showing top 10 rows\n",
      "\n"
     ]
    }
   ],
   "source": [
    "drink_quality.select('fixed acidity',\n",
    " 'volatile_acidity',\n",
    " 'citric_acid',\n",
    " 'residual_sugar',\n",
    " 'chlorides').show(10)"
   ]
  },
  {
   "cell_type": "markdown",
   "id": "03d80623-a07c-490c-9e46-a3df0874469c",
   "metadata": {
    "tags": []
   },
   "source": [
    "### Filtrer un DataFrame"
   ]
  },
  {
   "cell_type": "markdown",
   "id": "01c25c9e-f54a-46b5-a3a5-0a10d23dd1ec",
   "metadata": {},
   "source": [
    "Selectionnez un DataFrame avec les deux variables \"pH\" et \"quality\", puis affichez que les instances qui on un pH qui commence avec le chiffre \"3\". (Exemple : 3.4, 3.12, 3.924). \n",
    "\n",
    "Utilisez les méthodes ***select()***, ***where()*** et ***startswhith()***"
   ]
  },
  {
   "cell_type": "code",
   "execution_count": 41,
   "id": "a1e8d025-6dc0-41c9-85b4-37b600a4533c",
   "metadata": {},
   "outputs": [
    {
     "name": "stdout",
     "output_type": "stream",
     "text": [
      "+----+-------+\n",
      "|  pH|quality|\n",
      "+----+-------+\n",
      "|3.51|    5.0|\n",
      "| 3.2|    5.0|\n",
      "|3.26|    5.0|\n",
      "|3.16|    6.0|\n",
      "|3.51|    5.0|\n",
      "+----+-------+\n",
      "only showing top 5 rows\n",
      "\n"
     ]
    }
   ],
   "source": [
    "drink_quality.select(\"pH\", \"quality\").where(col(\"pH\").startswith(\"3\")).show(5)"
   ]
  },
  {
   "cell_type": "markdown",
   "id": "0f593a12-b393-4f32-b68d-47c6baad28b8",
   "metadata": {},
   "source": [
    "Selectionnez un DataFrame avec les deux variables \"pH\" et \"quality\", puis affichez que les instances qui on un pH qui se termine avec le chiffre \"1\". (Exemple : 3.1, 3.61, 4.251). \n",
    "\n",
    "Utilisez les méthodes ***select()***, ***where()*** et ***endswhith()***"
   ]
  },
  {
   "cell_type": "code",
   "execution_count": 42,
   "id": "53949e60-d355-40f4-af7d-0e61ad325f7a",
   "metadata": {},
   "outputs": [
    {
     "name": "stdout",
     "output_type": "stream",
     "text": [
      "+----+-------+\n",
      "|  pH|quality|\n",
      "+----+-------+\n",
      "|3.51|    5.0|\n",
      "|3.51|    5.0|\n",
      "|3.51|    5.0|\n",
      "|3.11|    5.0|\n",
      "|3.21|    6.0|\n",
      "+----+-------+\n",
      "only showing top 5 rows\n",
      "\n"
     ]
    }
   ],
   "source": [
    "drink_quality.select(\"pH\", \"quality\").where(col(\"pH\").endswith(\"1\")).show(5)"
   ]
  },
  {
   "cell_type": "markdown",
   "id": "17f57cb5-ad20-4491-9744-7508436b7beb",
   "metadata": {},
   "source": [
    "Selectionnez un DataFrame avec les deux variables \"pH\" et \"quality\", puis affichez que les instances qui on un pH qui commence avec le chiffre \"3\" et qui se termine avec le chiffre \"1\""
   ]
  },
  {
   "cell_type": "code",
   "execution_count": 45,
   "id": "3f00e1bb-573b-4f9a-8ed4-eae74ac6c69d",
   "metadata": {},
   "outputs": [
    {
     "name": "stdout",
     "output_type": "stream",
     "text": [
      "+----+-------+\n",
      "|  pH|quality|\n",
      "+----+-------+\n",
      "|3.51|    5.0|\n",
      "|3.51|    5.0|\n",
      "|3.51|    5.0|\n",
      "|3.11|    5.0|\n",
      "|3.21|    6.0|\n",
      "+----+-------+\n",
      "only showing top 5 rows\n",
      "\n"
     ]
    }
   ],
   "source": [
    "drink_quality.select(\"pH\", \"quality\").where(col(\"pH\").startswith(\"3\") & col(\"pH\").endswith(\"1\")).show(5)"
   ]
  },
  {
   "cell_type": "markdown",
   "id": "df9a380b-d659-4290-a1f5-f4f6c63e5306",
   "metadata": {},
   "source": [
    "Filtrez le DataFrame en affichant que les instances dont la valeur de \"pH\" est supérieur à 3."
   ]
  },
  {
   "cell_type": "code",
   "execution_count": 47,
   "id": "ccfa9716-018a-4a32-bbeb-261eb88ed1b1",
   "metadata": {},
   "outputs": [
    {
     "name": "stdout",
     "output_type": "stream",
     "text": [
      "+-------------+----------------+-----------+--------------+---------+-------------------+--------------------+-------+----+---------+-------+-------+\n",
      "|fixed acidity|volatile_acidity|citric_acid|residual_sugar|chlorides|free_sulfur_dioxide|total_sulfur_dioxide|density|  pH|sulphates|alcohol|quality|\n",
      "+-------------+----------------+-----------+--------------+---------+-------------------+--------------------+-------+----+---------+-------+-------+\n",
      "|          7.4|             0.7|        0.0|           1.9|    0.076|               11.0|                34.0| 0.9978|3.51|     0.56|    9.4|    5.0|\n",
      "|          7.8|            0.88|        0.0|           2.6|    0.098|               25.0|                67.0| 0.9968| 3.2|     0.68|    9.8|    5.0|\n",
      "|          7.8|            0.76|       0.04|           2.3|    0.092|               15.0|                54.0|  0.997|3.26|     0.65|    9.8|    5.0|\n",
      "|         11.2|            0.28|       0.56|           1.9|    0.075|               17.0|                60.0|  0.998|3.16|     0.58|    9.8|    6.0|\n",
      "|          7.4|             0.7|        0.0|           1.9|    0.076|               11.0|                34.0| 0.9978|3.51|     0.56|    9.4|    5.0|\n",
      "|          7.4|            0.66|        0.0|           1.8|    0.075|               13.0|                40.0| 0.9978|3.51|     0.56|    9.4|    5.0|\n",
      "|          7.9|             0.6|       0.06|           1.6|    0.069|               15.0|                59.0| 0.9964| 3.3|     0.46|    9.4|    5.0|\n",
      "|          7.3|            0.65|        0.0|           1.2|    0.065|               15.0|                21.0| 0.9946|3.39|     0.47|   10.0|    7.0|\n",
      "|          7.8|            0.58|       0.02|           2.0|    0.073|                9.0|                18.0| 0.9968|3.36|     0.57|    9.5|    7.0|\n",
      "|          7.5|             0.5|       0.36|           6.1|    0.071|               17.0|               102.0| 0.9978|3.35|      0.8|   10.5|    5.0|\n",
      "|          6.7|            0.58|       0.08|           1.8|    0.097|               15.0|                65.0| 0.9959|3.28|     0.54|    9.2|    5.0|\n",
      "|          7.5|             0.5|       0.36|           6.1|    0.071|               17.0|               102.0| 0.9978|3.35|      0.8|   10.5|    5.0|\n",
      "|          5.6|           0.615|        0.0|           1.6|    0.089|               16.0|                59.0| 0.9943|3.58|     0.52|    9.9|    5.0|\n",
      "|          7.8|            0.61|       0.29|           1.6|    0.114|                9.0|                29.0| 0.9974|3.26|     1.56|    9.1|    5.0|\n",
      "|          8.9|            0.62|       0.18|           3.8|    0.176|               52.0|               145.0| 0.9986|3.16|     0.88|    9.2|    5.0|\n",
      "+-------------+----------------+-----------+--------------+---------+-------------------+--------------------+-------+----+---------+-------+-------+\n",
      "only showing top 15 rows\n",
      "\n"
     ]
    }
   ],
   "source": [
    "drink_quality.filter(col(\"pH\") > 3).show(15)"
   ]
  },
  {
   "cell_type": "markdown",
   "id": "4edf5ab3-a7a7-427b-aa09-70b50e9ca204",
   "metadata": {},
   "source": [
    "#### Plusieurs filtres"
   ]
  },
  {
   "cell_type": "markdown",
   "id": "c5221c79-99e9-4a84-b7a2-6f80859bff49",
   "metadata": {},
   "source": [
    "Filtrez le DataFrame en affichant que les instances dont la valeur de \"pH\" est supérieur à 3 ***et*** la valeur de \"sulphates\" inférieur à 0.6"
   ]
  },
  {
   "cell_type": "code",
   "execution_count": 48,
   "id": "87093357-800c-43c6-9d95-17b5924a468d",
   "metadata": {
    "scrolled": true
   },
   "outputs": [
    {
     "name": "stdout",
     "output_type": "stream",
     "text": [
      "+-------------+----------------+-----------+--------------+---------+-------------------+--------------------+-------+----+---------+-------+-------+\n",
      "|fixed acidity|volatile_acidity|citric_acid|residual_sugar|chlorides|free_sulfur_dioxide|total_sulfur_dioxide|density|  pH|sulphates|alcohol|quality|\n",
      "+-------------+----------------+-----------+--------------+---------+-------------------+--------------------+-------+----+---------+-------+-------+\n",
      "|          7.4|             0.7|        0.0|           1.9|    0.076|               11.0|                34.0| 0.9978|3.51|     0.56|    9.4|    5.0|\n",
      "|         11.2|            0.28|       0.56|           1.9|    0.075|               17.0|                60.0|  0.998|3.16|     0.58|    9.8|    6.0|\n",
      "|          7.4|             0.7|        0.0|           1.9|    0.076|               11.0|                34.0| 0.9978|3.51|     0.56|    9.4|    5.0|\n",
      "|          7.4|            0.66|        0.0|           1.8|    0.075|               13.0|                40.0| 0.9978|3.51|     0.56|    9.4|    5.0|\n",
      "|          7.9|             0.6|       0.06|           1.6|    0.069|               15.0|                59.0| 0.9964| 3.3|     0.46|    9.4|    5.0|\n",
      "|          7.3|            0.65|        0.0|           1.2|    0.065|               15.0|                21.0| 0.9946|3.39|     0.47|   10.0|    7.0|\n",
      "|          7.8|            0.58|       0.02|           2.0|    0.073|                9.0|                18.0| 0.9968|3.36|     0.57|    9.5|    7.0|\n",
      "|          6.7|            0.58|       0.08|           1.8|    0.097|               15.0|                65.0| 0.9959|3.28|     0.54|    9.2|    5.0|\n",
      "|          5.6|           0.615|        0.0|           1.6|    0.089|               16.0|                59.0| 0.9943|3.58|     0.52|    9.9|    5.0|\n",
      "|          7.4|            0.59|       0.08|           4.4|    0.086|                6.0|                29.0| 0.9974|3.38|      0.5|    9.0|    4.0|\n",
      "+-------------+----------------+-----------+--------------+---------+-------------------+--------------------+-------+----+---------+-------+-------+\n",
      "only showing top 10 rows\n",
      "\n"
     ]
    }
   ],
   "source": [
    "drink_quality.filter((col(\"pH\") > 3) & (col(\"sulphates\") < 0.6)).show(10)"
   ]
  },
  {
   "cell_type": "markdown",
   "id": "926bb829-3a76-4a51-93e3-1428ea570751",
   "metadata": {},
   "source": [
    "Filtrez le DataFrame en affichant que les instances dont la valeur de \"pH\" est supérieur à 3 ***ou*** la valeur de \"sulphates\" inférieur à 0.6"
   ]
  },
  {
   "cell_type": "markdown",
   "id": "aef44a63-8ae2-404d-91d7-4dc7f1305e71",
   "metadata": {},
   "source": [
    "### Save "
   ]
  },
  {
   "cell_type": "markdown",
   "id": "d04f8f8b-0089-422c-bd6b-512a13597982",
   "metadata": {},
   "source": [
    "Le Jupyter Notebook est sur le container Docker. \n",
    "\n",
    "Copiez le sur votre machine locale en utilisant la commande (depuis CMD) ***>docker cp***"
   ]
  },
  {
   "cell_type": "code",
   "execution_count": null,
   "id": "819cf345-4536-4a25-8308-603bcd2bb421",
   "metadata": {},
   "outputs": [],
   "source": []
  }
 ],
 "metadata": {
  "kernelspec": {
   "display_name": "Python 3 (ipykernel)",
   "language": "python",
   "name": "python3"
  },
  "language_info": {
   "codemirror_mode": {
    "name": "ipython",
    "version": 3
   },
   "file_extension": ".py",
   "mimetype": "text/x-python",
   "name": "python",
   "nbconvert_exporter": "python",
   "pygments_lexer": "ipython3",
   "version": "3.11.6"
  },
  "toc": {
   "base_numbering": 1,
   "nav_menu": {},
   "number_sections": true,
   "sideBar": true,
   "skip_h1_title": true,
   "title_cell": "Table of Contents",
   "title_sidebar": "Contents",
   "toc_cell": true,
   "toc_position": {},
   "toc_section_display": true,
   "toc_window_display": false
  }
 },
 "nbformat": 4,
 "nbformat_minor": 5
}
